{
 "cells": [
  {
   "attachments": {},
   "cell_type": "markdown",
   "id": "d2018b37-09a8-410b-95bd-2a8cacb4431b",
   "metadata": {},
   "source": [
    "# 1. Importing packages"
   ]
  },
  {
   "cell_type": "code",
   "execution_count": 60,
   "id": "8b3a1199-89b1-4f3a-b409-a7c8358bd4e6",
   "metadata": {
    "tags": []
   },
   "outputs": [],
   "source": [
    "import pandas as pd\n",
    "from textblob import TextBlob\n",
    "import matplotlib.pyplot as plt\n",
    "\n",
    "# what is %matplotlib inline: https://stackoverflow.com/questions/43027980/purpose-of-matplotlib-inline\n",
    "%matplotlib inline\n",
    "import seaborn as sns"
   ]
  },
  {
   "attachments": {},
   "cell_type": "markdown",
   "id": "f507ccd2-755b-4164-a3b9-03e174862c5b",
   "metadata": {},
   "source": [
    "# 2. Load the dataset"
   ]
  },
  {
   "cell_type": "code",
   "execution_count": 61,
   "id": "abc6fb93-0494-4ec9-bba3-75fc8a61a32e",
   "metadata": {
    "tags": []
   },
   "outputs": [
    {
     "data": {
      "text/html": [
       "<div>\n",
       "<style scoped>\n",
       "    .dataframe tbody tr th:only-of-type {\n",
       "        vertical-align: middle;\n",
       "    }\n",
       "\n",
       "    .dataframe tbody tr th {\n",
       "        vertical-align: top;\n",
       "    }\n",
       "\n",
       "    .dataframe thead th {\n",
       "        text-align: right;\n",
       "    }\n",
       "</style>\n",
       "<table border=\"1\" class=\"dataframe\">\n",
       "  <thead>\n",
       "    <tr style=\"text-align: right;\">\n",
       "      <th></th>\n",
       "      <th>id</th>\n",
       "      <th>date</th>\n",
       "      <th>cleaned_tweet</th>\n",
       "    </tr>\n",
       "  </thead>\n",
       "  <tbody>\n",
       "    <tr>\n",
       "      <th>0</th>\n",
       "      <td>1212450794705969152</td>\n",
       "      <td>2020-01-02</td>\n",
       "      <td>fun fact audi register e tron netherlands   sux combine  obviously order magnitude</td>\n",
       "    </tr>\n",
       "    <tr>\n",
       "      <th>1</th>\n",
       "      <td>1212450579634626560</td>\n",
       "      <td>2020-01-02</td>\n",
       "      <td>mf  stock watch shit go damn year miss curve</td>\n",
       "    </tr>\n",
       "    <tr>\n",
       "      <th>2</th>\n",
       "      <td>1212450337543602177</td>\n",
       "      <td>2020-01-02</td>\n",
       "      <td>icannot enough june th within day  low reply charts never short lol</td>\n",
       "    </tr>\n",
       "    <tr>\n",
       "      <th>3</th>\n",
       "      <td>1212450309131227141</td>\n",
       "      <td>2020-01-02</td>\n",
       "      <td>gain momentum taiwan ownerstwn     taiwan</td>\n",
       "    </tr>\n",
       "    <tr>\n",
       "      <th>4</th>\n",
       "      <td>1212449703318753280</td>\n",
       "      <td>2020-01-02</td>\n",
       "      <td>schuldensuehner extrapolate number another two year consider amp occur ice company scramble survive look like  successful</td>\n",
       "    </tr>\n",
       "  </tbody>\n",
       "</table>\n",
       "</div>"
      ],
      "text/plain": [
       "                    id        date  \\\n",
       "0  1212450794705969152  2020-01-02   \n",
       "1  1212450579634626560  2020-01-02   \n",
       "2  1212450337543602177  2020-01-02   \n",
       "3  1212450309131227141  2020-01-02   \n",
       "4  1212449703318753280  2020-01-02   \n",
       "\n",
       "                                                                                                               cleaned_tweet  \n",
       "0                                     fun fact audi register e tron netherlands   sux combine  obviously order magnitude      \n",
       "1                                                                               mf  stock watch shit go damn year miss curve  \n",
       "2                                                        icannot enough june th within day  low reply charts never short lol  \n",
       "3                                                                                  gain momentum taiwan ownerstwn     taiwan  \n",
       "4  schuldensuehner extrapolate number another two year consider amp occur ice company scramble survive look like  successful  "
      ]
     },
     "execution_count": 61,
     "metadata": {},
     "output_type": "execute_result"
    }
   ],
   "source": [
    "tweets_df = pd.read_csv('cleaned_tsla_tweets.csv')\n",
    "tweets_df = tweets_df.iloc[:, [0,1,4]]\n",
    "tweets_df.head()"
   ]
  },
  {
   "cell_type": "code",
   "execution_count": 62,
   "id": "c37b9ecd-b9f2-4380-85ac-42894a55a4dc",
   "metadata": {
    "tags": []
   },
   "outputs": [
    {
     "name": "stdout",
     "output_type": "stream",
     "text": [
      "<class 'pandas.core.frame.DataFrame'>\n",
      "RangeIndex: 113741 entries, 0 to 113740\n",
      "Data columns (total 3 columns):\n",
      " #   Column         Non-Null Count   Dtype \n",
      "---  ------         --------------   ----- \n",
      " 0   id             113741 non-null  int64 \n",
      " 1   date           113741 non-null  object\n",
      " 2   cleaned_tweet  109112 non-null  object\n",
      "dtypes: int64(1), object(2)\n",
      "memory usage: 2.6+ MB\n"
     ]
    }
   ],
   "source": [
    "tweets_df.info()"
   ]
  },
  {
   "cell_type": "code",
   "execution_count": 63,
   "id": "c91acb12-d5ea-45b0-bb18-a7f0ca8a5e91",
   "metadata": {
    "tags": []
   },
   "outputs": [
    {
     "name": "stdout",
     "output_type": "stream",
     "text": [
      "<class 'pandas.core.frame.DataFrame'>\n",
      "RangeIndex: 113741 entries, 0 to 113740\n",
      "Data columns (total 3 columns):\n",
      " #   Column         Non-Null Count   Dtype         \n",
      "---  ------         --------------   -----         \n",
      " 0   id             113741 non-null  int64         \n",
      " 1   date           113741 non-null  datetime64[ns]\n",
      " 2   cleaned_tweet  109112 non-null  object        \n",
      "dtypes: datetime64[ns](1), int64(1), object(1)\n",
      "memory usage: 2.6+ MB\n"
     ]
    }
   ],
   "source": [
    "#Change date column into datetime type\n",
    "tweets_df.date=pd.to_datetime(tweets_df.date)\n",
    "tweets_df.info()"
   ]
  },
  {
   "cell_type": "code",
   "execution_count": 64,
   "id": "6a6658d4-1147-4721-b0a9-c7259a39a24d",
   "metadata": {
    "tags": []
   },
   "outputs": [
    {
     "data": {
      "text/plain": [
       "id                  0\n",
       "date                0\n",
       "cleaned_tweet    4629\n",
       "dtype: int64"
      ]
     },
     "execution_count": 64,
     "metadata": {},
     "output_type": "execute_result"
    }
   ],
   "source": [
    "# check for null values\n",
    "# https://www.miamioh.edu/cads/students/coding-tutorials/python/data-cleaning/index.html\n",
    "tweets_df.isnull().sum()"
   ]
  },
  {
   "cell_type": "code",
   "execution_count": 65,
   "id": "08717351-e354-4cf8-8813-520d4c31fcbe",
   "metadata": {
    "tags": []
   },
   "outputs": [],
   "source": [
    "# delete the null values\n",
    "tweets_df = tweets_df.dropna()"
   ]
  },
  {
   "attachments": {},
   "cell_type": "markdown",
   "id": "3231117e-603c-4b7b-8ed3-5d2e7fd3b0c6",
   "metadata": {},
   "source": [
    "# 3. Calculating the sentiment scores"
   ]
  },
  {
   "cell_type": "code",
   "execution_count": 66,
   "id": "933cb1eb-31b5-4257-a2cc-0a0c4e88623e",
   "metadata": {
    "tags": []
   },
   "outputs": [
    {
     "data": {
      "text/html": [
       "<div>\n",
       "<style scoped>\n",
       "    .dataframe tbody tr th:only-of-type {\n",
       "        vertical-align: middle;\n",
       "    }\n",
       "\n",
       "    .dataframe tbody tr th {\n",
       "        vertical-align: top;\n",
       "    }\n",
       "\n",
       "    .dataframe thead th {\n",
       "        text-align: right;\n",
       "    }\n",
       "</style>\n",
       "<table border=\"1\" class=\"dataframe\">\n",
       "  <thead>\n",
       "    <tr style=\"text-align: right;\">\n",
       "      <th></th>\n",
       "      <th>id</th>\n",
       "      <th>date</th>\n",
       "      <th>cleaned_tweet</th>\n",
       "      <th>sentiment_score</th>\n",
       "    </tr>\n",
       "  </thead>\n",
       "  <tbody>\n",
       "    <tr>\n",
       "      <th>0</th>\n",
       "      <td>1212450794705969152</td>\n",
       "      <td>2020-01-02</td>\n",
       "      <td>fun fact audi register e tron netherlands   sux combine  obviously order magnitude</td>\n",
       "      <td>0.15</td>\n",
       "    </tr>\n",
       "    <tr>\n",
       "      <th>1</th>\n",
       "      <td>1212450579634626560</td>\n",
       "      <td>2020-01-02</td>\n",
       "      <td>mf  stock watch shit go damn year miss curve</td>\n",
       "      <td>-0.20</td>\n",
       "    </tr>\n",
       "    <tr>\n",
       "      <th>2</th>\n",
       "      <td>1212450337543602177</td>\n",
       "      <td>2020-01-02</td>\n",
       "      <td>icannot enough june th within day  low reply charts never short lol</td>\n",
       "      <td>0.20</td>\n",
       "    </tr>\n",
       "    <tr>\n",
       "      <th>3</th>\n",
       "      <td>1212450309131227141</td>\n",
       "      <td>2020-01-02</td>\n",
       "      <td>gain momentum taiwan ownerstwn     taiwan</td>\n",
       "      <td>0.00</td>\n",
       "    </tr>\n",
       "    <tr>\n",
       "      <th>4</th>\n",
       "      <td>1212449703318753280</td>\n",
       "      <td>2020-01-02</td>\n",
       "      <td>schuldensuehner extrapolate number another two year consider amp occur ice company scramble survive look like  successful</td>\n",
       "      <td>0.75</td>\n",
       "    </tr>\n",
       "  </tbody>\n",
       "</table>\n",
       "</div>"
      ],
      "text/plain": [
       "                    id       date  \\\n",
       "0  1212450794705969152 2020-01-02   \n",
       "1  1212450579634626560 2020-01-02   \n",
       "2  1212450337543602177 2020-01-02   \n",
       "3  1212450309131227141 2020-01-02   \n",
       "4  1212449703318753280 2020-01-02   \n",
       "\n",
       "                                                                                                               cleaned_tweet  \\\n",
       "0                                     fun fact audi register e tron netherlands   sux combine  obviously order magnitude       \n",
       "1                                                                               mf  stock watch shit go damn year miss curve   \n",
       "2                                                        icannot enough june th within day  low reply charts never short lol   \n",
       "3                                                                                  gain momentum taiwan ownerstwn     taiwan   \n",
       "4  schuldensuehner extrapolate number another two year consider amp occur ice company scramble survive look like  successful   \n",
       "\n",
       "   sentiment_score  \n",
       "0             0.15  \n",
       "1            -0.20  \n",
       "2             0.20  \n",
       "3             0.00  \n",
       "4             0.75  "
      ]
     },
     "execution_count": 66,
     "metadata": {},
     "output_type": "execute_result"
    }
   ],
   "source": [
    "# use TextBlob for sentiment scores:\n",
    "tweets_df['sentiment_score'] = tweets_df.apply(lambda row: TextBlob(row.cleaned_tweet).sentiment[0], axis=1)\n",
    "tweets_df.head()"
   ]
  },
  {
   "attachments": {},
   "cell_type": "markdown",
   "id": "25f10618-3cd0-4b43-8f5e-497ed264e6c2",
   "metadata": {},
   "source": [
    "# 4. Previewing sentiment scores of tweets"
   ]
  },
  {
   "cell_type": "code",
   "execution_count": 67,
   "id": "ac9410f2-081b-4b35-aaf8-9ff19ac94c90",
   "metadata": {},
   "outputs": [
    {
     "data": {
      "text/plain": [
       "'wow hold delivery last day make look like big demand  '"
      ]
     },
     "execution_count": 67,
     "metadata": {},
     "output_type": "execute_result"
    }
   ],
   "source": [
    "tweets_df.cleaned_tweet[174]"
   ]
  },
  {
   "cell_type": "code",
   "execution_count": 68,
   "id": "c14ea8b5-86e1-48ce-b783-a3a56f92cd13",
   "metadata": {
    "tags": []
   },
   "outputs": [
    {
     "data": {
      "text/plain": [
       "0.03333333333333333"
      ]
     },
     "execution_count": 68,
     "metadata": {},
     "output_type": "execute_result"
    }
   ],
   "source": [
    "tweets_df.sentiment_score[174]"
   ]
  },
  {
   "cell_type": "code",
   "execution_count": 69,
   "id": "aaa09b1c-8190-42e2-b148-52653c46c863",
   "metadata": {
    "tags": []
   },
   "outputs": [
    {
     "data": {
      "text/html": [
       "<div>\n",
       "<style scoped>\n",
       "    .dataframe tbody tr th:only-of-type {\n",
       "        vertical-align: middle;\n",
       "    }\n",
       "\n",
       "    .dataframe tbody tr th {\n",
       "        vertical-align: top;\n",
       "    }\n",
       "\n",
       "    .dataframe thead th {\n",
       "        text-align: right;\n",
       "    }\n",
       "</style>\n",
       "<table border=\"1\" class=\"dataframe\">\n",
       "  <thead>\n",
       "    <tr style=\"text-align: right;\">\n",
       "      <th></th>\n",
       "      <th>Cleaned Tweet</th>\n",
       "      <th>Sentiment Score</th>\n",
       "    </tr>\n",
       "  </thead>\n",
       "  <tbody>\n",
       "    <tr>\n",
       "      <th>27952</th>\n",
       "      <td>get eye lowball bid jan googl call sep mgm call jan  put jan twtr call jan uaa call bb rock happens get stopped pin call within minute buy jiffy</td>\n",
       "      <td>0.000</td>\n",
       "    </tr>\n",
       "    <tr>\n",
       "      <th>35559</th>\n",
       "      <td>top momentum stock ytd  nflx amzn nvda fb</td>\n",
       "      <td>0.500</td>\n",
       "    </tr>\n",
       "    <tr>\n",
       "      <th>36248</th>\n",
       "      <td>stock make big move hour keurig dr pepper f network  kdp ffiv  ba cv</td>\n",
       "      <td>0.000</td>\n",
       "    </tr>\n",
       "    <tr>\n",
       "      <th>93299</th>\n",
       "      <td>kevin holloway really show much two capable focused part time gig yes good read  amzn investor</td>\n",
       "      <td>0.325</td>\n",
       "    </tr>\n",
       "    <tr>\n",
       "      <th>53134</th>\n",
       "      <td>swing call next week</td>\n",
       "      <td>0.000</td>\n",
       "    </tr>\n",
       "  </tbody>\n",
       "</table>\n",
       "</div>"
      ],
      "text/plain": [
       "                                                                                                                                          Cleaned Tweet  \\\n",
       "27952  get eye lowball bid jan googl call sep mgm call jan  put jan twtr call jan uaa call bb rock happens get stopped pin call within minute buy jiffy   \n",
       "35559                                                                                                         top momentum stock ytd  nflx amzn nvda fb   \n",
       "36248                                                                              stock make big move hour keurig dr pepper f network  kdp ffiv  ba cv   \n",
       "93299                                                    kevin holloway really show much two capable focused part time gig yes good read  amzn investor   \n",
       "53134                                                                                                                              swing call next week   \n",
       "\n",
       "       Sentiment Score  \n",
       "27952            0.000  \n",
       "35559            0.500  \n",
       "36248            0.000  \n",
       "93299            0.325  \n",
       "53134            0.000  "
      ]
     },
     "execution_count": 69,
     "metadata": {},
     "output_type": "execute_result"
    }
   ],
   "source": [
    "# https://pandas.pydata.org/docs/user_guide/options.html\n",
    "pd.options.display.max_colwidth = 250\n",
    "random_subset = tweets_df.sample(n=15)\n",
    "# remove columns\n",
    "random_subset = random_subset.drop(columns=['id','date'])\n",
    "random_subset = random_subset.rename(columns={'tweet': 'Original Tweet', \n",
    "                                              'cleaned_tweet': 'Cleaned Tweet', \n",
    "                                              'sentiment_score':'Sentiment Score'})\n",
    "\n",
    "random_subset.head(5)"
   ]
  },
  {
   "attachments": {},
   "cell_type": "markdown",
   "id": "5a39b8f4-4b07-4830-8b12-57e05e86a7e8",
   "metadata": {
    "tags": []
   },
   "source": [
    "# 5. Frequency analysis of sentiment scores"
   ]
  },
  {
   "cell_type": "code",
   "execution_count": 70,
   "id": "f4a7503a-1c89-4b36-af19-6e31b55ee3d5",
   "metadata": {
    "tags": []
   },
   "outputs": [
    {
     "data": {
      "image/png": "[encoded data removed]",
      "text/plain": [
       "<Figure size 1200x700 with 1 Axes>"
      ]
     },
     "metadata": {},
     "output_type": "display_data"
    }
   ],
   "source": [
    "# plotting counts of tweets for binned sentiment scores\n",
    "bins = [-1.0, -0.8, -0.6, -0.4, -0.2, 0, 0.2, 0.4, 0.6, 0.8, 1]\n",
    "tweets_df['bin'] = pd.cut(tweets_df['sentiment_score'], bins)\n",
    "plt.figure(figsize=(12,7))\n",
    "ax = sns.countplot(x=tweets_df['bin'])\n",
    "ax.set_ylabel('Number of Tweets', fontsize=12)\n",
    "ax.set_xlabel('Sentiment Scores', fontsize=12)\n",
    "ax.set_xticklabels(ax.get_xticklabels(), rotation=40, ha='right', fontsize=14)\n",
    "ax.set_title('Bar Chart of Tweet Counts Sentiment Scores' , fontsize=15)\n",
    "ax.set_ylim(0, 70000)\n",
    "plt.show()"
   ]
  },
  {
   "attachments": {},
   "cell_type": "markdown",
   "id": "bb29bb33-687a-468d-a310-cf6a33fb292b",
   "metadata": {},
   "source": [
    "# 6. Caluculate the average sentiment scores each day"
   ]
  },
  {
   "cell_type": "code",
   "execution_count": 82,
   "id": "190f65a8-a7fb-4eac-9e13-7af13c552d02",
   "metadata": {
    "tags": []
   },
   "outputs": [
    {
     "data": {
      "text/html": [
       "<div>\n",
       "<style scoped>\n",
       "    .dataframe tbody tr th:only-of-type {\n",
       "        vertical-align: middle;\n",
       "    }\n",
       "\n",
       "    .dataframe tbody tr th {\n",
       "        vertical-align: top;\n",
       "    }\n",
       "\n",
       "    .dataframe thead th {\n",
       "        text-align: right;\n",
       "    }\n",
       "</style>\n",
       "<table border=\"1\" class=\"dataframe\">\n",
       "  <thead>\n",
       "    <tr style=\"text-align: right;\">\n",
       "      <th></th>\n",
       "      <th>date</th>\n",
       "      <th>sentiment_score</th>\n",
       "    </tr>\n",
       "  </thead>\n",
       "  <tbody>\n",
       "    <tr>\n",
       "      <th>0</th>\n",
       "      <td>2020-01-02</td>\n",
       "      <td>0.15</td>\n",
       "    </tr>\n",
       "    <tr>\n",
       "      <th>1</th>\n",
       "      <td>2020-01-02</td>\n",
       "      <td>-0.20</td>\n",
       "    </tr>\n",
       "    <tr>\n",
       "      <th>2</th>\n",
       "      <td>2020-01-02</td>\n",
       "      <td>0.20</td>\n",
       "    </tr>\n",
       "    <tr>\n",
       "      <th>3</th>\n",
       "      <td>2020-01-02</td>\n",
       "      <td>0.00</td>\n",
       "    </tr>\n",
       "    <tr>\n",
       "      <th>4</th>\n",
       "      <td>2020-01-02</td>\n",
       "      <td>0.75</td>\n",
       "    </tr>\n",
       "  </tbody>\n",
       "</table>\n",
       "</div>"
      ],
      "text/plain": [
       "        date  sentiment_score\n",
       "0 2020-01-02             0.15\n",
       "1 2020-01-02            -0.20\n",
       "2 2020-01-02             0.20\n",
       "3 2020-01-02             0.00\n",
       "4 2020-01-02             0.75"
      ]
     },
     "execution_count": 82,
     "metadata": {},
     "output_type": "execute_result"
    }
   ],
   "source": [
    "daily_sentiment_scores_df = tweets_df[['date', 'sentiment_score']]\n",
    "daily_sentiment_scores_df.head()"
   ]
  },
  {
   "cell_type": "code",
   "execution_count": 83,
   "id": "dae7dfa7-ae74-49c6-9e2e-17f32bf67d2a",
   "metadata": {
    "tags": []
   },
   "outputs": [],
   "source": [
    "#daily_sentiment_scores_df.sentiment_score[1000]"
   ]
  },
  {
   "cell_type": "code",
   "execution_count": 84,
   "id": "47f7a3e4-ae32-4eab-b24c-b0ac306d526a",
   "metadata": {
    "tags": []
   },
   "outputs": [
    {
     "data": {
      "text/html": [
       "<div>\n",
       "<style scoped>\n",
       "    .dataframe tbody tr th:only-of-type {\n",
       "        vertical-align: middle;\n",
       "    }\n",
       "\n",
       "    .dataframe tbody tr th {\n",
       "        vertical-align: top;\n",
       "    }\n",
       "\n",
       "    .dataframe thead th {\n",
       "        text-align: right;\n",
       "    }\n",
       "</style>\n",
       "<table border=\"1\" class=\"dataframe\">\n",
       "  <thead>\n",
       "    <tr style=\"text-align: right;\">\n",
       "      <th></th>\n",
       "      <th>sentiment_score</th>\n",
       "    </tr>\n",
       "    <tr>\n",
       "      <th>date</th>\n",
       "      <th></th>\n",
       "    </tr>\n",
       "  </thead>\n",
       "  <tbody>\n",
       "    <tr>\n",
       "      <th>2020-01-01</th>\n",
       "      <td>0.099938</td>\n",
       "    </tr>\n",
       "    <tr>\n",
       "      <th>2020-01-02</th>\n",
       "      <td>0.111398</td>\n",
       "    </tr>\n",
       "    <tr>\n",
       "      <th>2020-01-03</th>\n",
       "      <td>0.073760</td>\n",
       "    </tr>\n",
       "    <tr>\n",
       "      <th>2020-01-04</th>\n",
       "      <td>0.083606</td>\n",
       "    </tr>\n",
       "    <tr>\n",
       "      <th>2020-01-05</th>\n",
       "      <td>0.086658</td>\n",
       "    </tr>\n",
       "  </tbody>\n",
       "</table>\n",
       "</div>"
      ],
      "text/plain": [
       "            sentiment_score\n",
       "date                       \n",
       "2020-01-01         0.099938\n",
       "2020-01-02         0.111398\n",
       "2020-01-03         0.073760\n",
       "2020-01-04         0.083606\n",
       "2020-01-05         0.086658"
      ]
     },
     "execution_count": 84,
     "metadata": {},
     "output_type": "execute_result"
    }
   ],
   "source": [
    "# average sentiment scores of each day\n",
    "daily_sentiment_scores_df = daily_sentiment_scores_df.resample('D', on='date').mean()\n",
    "daily_sentiment_scores_df.head()"
   ]
  },
  {
   "cell_type": "code",
   "execution_count": 74,
   "id": "d6526942-7e25-42fb-8ce6-39d8e578544f",
   "metadata": {},
   "outputs": [
    {
     "data": {
      "image/png": "[encoded data removed]",
      "text/plain": [
       "<Figure size 1600x500 with 1 Axes>"
      ]
     },
     "metadata": {},
     "output_type": "display_data"
    }
   ],
   "source": [
    "# Plot top 10 daily sentiment score averages\n",
    "top_avg_df = daily_sentiment_scores_df.nlargest(columns='sentiment_score', n=10)\n",
    "plt.figure(figsize=(16,5))\n",
    "ax = sns.barplot(data=top_avg_df, x=top_avg_df.index.date, y=top_avg_df['sentiment_score'])\n",
    "ax.set_ylabel('Average Sentiment Score', fontsize=12)\n",
    "ax.set_xlabel('Date', fontsize=12)\n",
    "ax.set_xticklabels(ax.get_xticklabels(), rotation=40, ha='right', fontsize=12)\n",
    "ax.set_title('Top 10 Daily Average Sentiment Scores', fontsize=22)\n",
    "plt.show()"
   ]
  },
  {
   "cell_type": "code",
   "execution_count": 75,
   "id": "ad1307b5-23e4-49e2-bacb-21937dc3eb0d",
   "metadata": {
    "tags": []
   },
   "outputs": [
    {
     "data": {
      "image/png": "[encoded data removed]",
      "text/plain": [
       "<Figure size 1600x500 with 1 Axes>"
      ]
     },
     "metadata": {},
     "output_type": "display_data"
    }
   ],
   "source": [
    "# plot bottom 10 daily sentiment score averages\n",
    "bottom_avg_df = daily_sentiment_scores_df.nsmallest(columns='sentiment_score', n=10)\n",
    "plt.figure(figsize=(16,5))\n",
    "ax = sns.barplot(data=bottom_avg_df, x=bottom_avg_df.index.date, y=bottom_avg_df['sentiment_score'])\n",
    "ax.set_ylabel('Average Sentiment Score', fontsize=12)\n",
    "ax.set_xlabel('Date', fontsize=12)\n",
    "ax.set_xticklabels(ax.get_xticklabels(), rotation=40, ha='right', fontsize=12)\n",
    "ax.set_title('Bottom 10 Daily Average Sentiment Scores', fontsize=22)\n",
    "plt.show()"
   ]
  },
  {
   "attachments": {},
   "cell_type": "markdown",
   "id": "78bda3bc-d056-408c-9e6b-6e5970d66616",
   "metadata": {},
   "source": [
    "# 7. Removing sentiment scores consisting zero"
   ]
  },
  {
   "cell_type": "code",
   "execution_count": 76,
   "id": "d856720b-00a6-43ac-b60b-e64da5e7102c",
   "metadata": {
    "tags": []
   },
   "outputs": [
    {
     "data": {
      "text/html": [
       "<div>\n",
       "<style scoped>\n",
       "    .dataframe tbody tr th:only-of-type {\n",
       "        vertical-align: middle;\n",
       "    }\n",
       "\n",
       "    .dataframe tbody tr th {\n",
       "        vertical-align: top;\n",
       "    }\n",
       "\n",
       "    .dataframe thead th {\n",
       "        text-align: right;\n",
       "    }\n",
       "</style>\n",
       "<table border=\"1\" class=\"dataframe\">\n",
       "  <thead>\n",
       "    <tr style=\"text-align: right;\">\n",
       "      <th></th>\n",
       "      <th>id</th>\n",
       "      <th>date</th>\n",
       "      <th>cleaned_tweet</th>\n",
       "      <th>sentiment_score</th>\n",
       "      <th>bin</th>\n",
       "    </tr>\n",
       "  </thead>\n",
       "  <tbody>\n",
       "    <tr>\n",
       "      <th>0</th>\n",
       "      <td>1212450794705969152</td>\n",
       "      <td>2020-01-02</td>\n",
       "      <td>fun fact audi register e tron netherlands   sux combine  obviously order magnitude</td>\n",
       "      <td>0.15</td>\n",
       "      <td>(0.0, 0.2]</td>\n",
       "    </tr>\n",
       "    <tr>\n",
       "      <th>1</th>\n",
       "      <td>1212450579634626560</td>\n",
       "      <td>2020-01-02</td>\n",
       "      <td>mf  stock watch shit go damn year miss curve</td>\n",
       "      <td>-0.20</td>\n",
       "      <td>(-0.4, -0.2]</td>\n",
       "    </tr>\n",
       "    <tr>\n",
       "      <th>2</th>\n",
       "      <td>1212450337543602177</td>\n",
       "      <td>2020-01-02</td>\n",
       "      <td>icannot enough june th within day  low reply charts never short lol</td>\n",
       "      <td>0.20</td>\n",
       "      <td>(0.0, 0.2]</td>\n",
       "    </tr>\n",
       "    <tr>\n",
       "      <th>3</th>\n",
       "      <td>1212450309131227141</td>\n",
       "      <td>2020-01-02</td>\n",
       "      <td>gain momentum taiwan ownerstwn     taiwan</td>\n",
       "      <td>0.00</td>\n",
       "      <td>(-0.2, 0.0]</td>\n",
       "    </tr>\n",
       "    <tr>\n",
       "      <th>4</th>\n",
       "      <td>1212449703318753280</td>\n",
       "      <td>2020-01-02</td>\n",
       "      <td>schuldensuehner extrapolate number another two year consider amp occur ice company scramble survive look like  successful</td>\n",
       "      <td>0.75</td>\n",
       "      <td>(0.6, 0.8]</td>\n",
       "    </tr>\n",
       "  </tbody>\n",
       "</table>\n",
       "</div>"
      ],
      "text/plain": [
       "                    id       date  \\\n",
       "0  1212450794705969152 2020-01-02   \n",
       "1  1212450579634626560 2020-01-02   \n",
       "2  1212450337543602177 2020-01-02   \n",
       "3  1212450309131227141 2020-01-02   \n",
       "4  1212449703318753280 2020-01-02   \n",
       "\n",
       "                                                                                                               cleaned_tweet  \\\n",
       "0                                     fun fact audi register e tron netherlands   sux combine  obviously order magnitude       \n",
       "1                                                                               mf  stock watch shit go damn year miss curve   \n",
       "2                                                        icannot enough june th within day  low reply charts never short lol   \n",
       "3                                                                                  gain momentum taiwan ownerstwn     taiwan   \n",
       "4  schuldensuehner extrapolate number another two year consider amp occur ice company scramble survive look like  successful   \n",
       "\n",
       "   sentiment_score           bin  \n",
       "0             0.15    (0.0, 0.2]  \n",
       "1            -0.20  (-0.4, -0.2]  \n",
       "2             0.20    (0.0, 0.2]  \n",
       "3             0.00   (-0.2, 0.0]  \n",
       "4             0.75    (0.6, 0.8]  "
      ]
     },
     "execution_count": 76,
     "metadata": {},
     "output_type": "execute_result"
    }
   ],
   "source": [
    "tweets_df.head()"
   ]
  },
  {
   "cell_type": "code",
   "execution_count": 85,
   "id": "6867bd36-3d97-441b-8a1e-3b416d1d4d1f",
   "metadata": {
    "tags": []
   },
   "outputs": [
    {
     "data": {
      "text/html": [
       "<div>\n",
       "<style scoped>\n",
       "    .dataframe tbody tr th:only-of-type {\n",
       "        vertical-align: middle;\n",
       "    }\n",
       "\n",
       "    .dataframe tbody tr th {\n",
       "        vertical-align: top;\n",
       "    }\n",
       "\n",
       "    .dataframe thead th {\n",
       "        text-align: right;\n",
       "    }\n",
       "</style>\n",
       "<table border=\"1\" class=\"dataframe\">\n",
       "  <thead>\n",
       "    <tr style=\"text-align: right;\">\n",
       "      <th></th>\n",
       "      <th>id</th>\n",
       "      <th>date</th>\n",
       "      <th>cleaned_tweet</th>\n",
       "      <th>sentiment_score</th>\n",
       "      <th>bin</th>\n",
       "    </tr>\n",
       "  </thead>\n",
       "  <tbody>\n",
       "    <tr>\n",
       "      <th>0</th>\n",
       "      <td>1212450794705969152</td>\n",
       "      <td>2020-01-02</td>\n",
       "      <td>fun fact audi register e tron netherlands   sux combine  obviously order magnitude</td>\n",
       "      <td>0.15</td>\n",
       "      <td>(0.0, 0.2]</td>\n",
       "    </tr>\n",
       "    <tr>\n",
       "      <th>1</th>\n",
       "      <td>1212450579634626560</td>\n",
       "      <td>2020-01-02</td>\n",
       "      <td>mf  stock watch shit go damn year miss curve</td>\n",
       "      <td>-0.20</td>\n",
       "      <td>(-0.4, -0.2]</td>\n",
       "    </tr>\n",
       "    <tr>\n",
       "      <th>2</th>\n",
       "      <td>1212450337543602177</td>\n",
       "      <td>2020-01-02</td>\n",
       "      <td>icannot enough june th within day  low reply charts never short lol</td>\n",
       "      <td>0.20</td>\n",
       "      <td>(0.0, 0.2]</td>\n",
       "    </tr>\n",
       "    <tr>\n",
       "      <th>3</th>\n",
       "      <td>1212450309131227141</td>\n",
       "      <td>2020-01-02</td>\n",
       "      <td>gain momentum taiwan ownerstwn     taiwan</td>\n",
       "      <td>0.00</td>\n",
       "      <td>(-0.2, 0.0]</td>\n",
       "    </tr>\n",
       "    <tr>\n",
       "      <th>4</th>\n",
       "      <td>1212449703318753280</td>\n",
       "      <td>2020-01-02</td>\n",
       "      <td>schuldensuehner extrapolate number another two year consider amp occur ice company scramble survive look like  successful</td>\n",
       "      <td>0.75</td>\n",
       "      <td>(0.6, 0.8]</td>\n",
       "    </tr>\n",
       "  </tbody>\n",
       "</table>\n",
       "</div>"
      ],
      "text/plain": [
       "                    id       date  \\\n",
       "0  1212450794705969152 2020-01-02   \n",
       "1  1212450579634626560 2020-01-02   \n",
       "2  1212450337543602177 2020-01-02   \n",
       "3  1212450309131227141 2020-01-02   \n",
       "4  1212449703318753280 2020-01-02   \n",
       "\n",
       "                                                                                                               cleaned_tweet  \\\n",
       "0                                     fun fact audi register e tron netherlands   sux combine  obviously order magnitude       \n",
       "1                                                                               mf  stock watch shit go damn year miss curve   \n",
       "2                                                        icannot enough june th within day  low reply charts never short lol   \n",
       "3                                                                                  gain momentum taiwan ownerstwn     taiwan   \n",
       "4  schuldensuehner extrapolate number another two year consider amp occur ice company scramble survive look like  successful   \n",
       "\n",
       "   sentiment_score           bin  \n",
       "0             0.15    (0.0, 0.2]  \n",
       "1            -0.20  (-0.4, -0.2]  \n",
       "2             0.20    (0.0, 0.2]  \n",
       "3             0.00   (-0.2, 0.0]  \n",
       "4             0.75    (0.6, 0.8]  "
      ]
     },
     "execution_count": 85,
     "metadata": {},
     "output_type": "execute_result"
    }
   ],
   "source": [
    "# make new copy of df for df that doesn't have zero scores\n",
    "tweets_dfnullzero = tweets_df.copy()\n",
    "tweets_dfnullzero.head()"
   ]
  },
  {
   "cell_type": "code",
   "execution_count": 86,
   "id": "bbca716b-fda4-47bb-b1a7-a2d23c62d7e0",
   "metadata": {
    "tags": []
   },
   "outputs": [
    {
     "data": {
      "text/plain": [
       "48917"
      ]
     },
     "execution_count": 86,
     "metadata": {},
     "output_type": "execute_result"
    }
   ],
   "source": [
    "# check amount of tweets with zeros\n",
    "(tweets_dfnullzero.sentiment_score == 0).sum()"
   ]
  },
  {
   "cell_type": "code",
   "execution_count": 87,
   "id": "d166dde7-b123-4023-87e4-870c818014c9",
   "metadata": {
    "tags": []
   },
   "outputs": [
    {
     "data": {
      "text/plain": [
       "0"
      ]
     },
     "execution_count": 87,
     "metadata": {},
     "output_type": "execute_result"
    }
   ],
   "source": [
    "# remove them\n",
    "#tweets_dfnullzero.sentiment_score !=0\n",
    "tweets_dfnullzero = tweets_dfnullzero[tweets_dfnullzero.sentiment_score !=0 ]\n",
    "(tweets_dfnullzero.sentiment_score == 0).sum()"
   ]
  },
  {
   "cell_type": "code",
   "execution_count": 93,
   "id": "636288ed-7b53-45f3-8c31-6b69976a6a51",
   "metadata": {
    "tags": []
   },
   "outputs": [
    {
     "data": {
      "text/html": [
       "<div>\n",
       "<style scoped>\n",
       "    .dataframe tbody tr th:only-of-type {\n",
       "        vertical-align: middle;\n",
       "    }\n",
       "\n",
       "    .dataframe tbody tr th {\n",
       "        vertical-align: top;\n",
       "    }\n",
       "\n",
       "    .dataframe thead th {\n",
       "        text-align: right;\n",
       "    }\n",
       "</style>\n",
       "<table border=\"1\" class=\"dataframe\">\n",
       "  <thead>\n",
       "    <tr style=\"text-align: right;\">\n",
       "      <th></th>\n",
       "      <th>date</th>\n",
       "      <th>sentiment_score</th>\n",
       "    </tr>\n",
       "  </thead>\n",
       "  <tbody>\n",
       "    <tr>\n",
       "      <th>0</th>\n",
       "      <td>2020-01-01</td>\n",
       "      <td>0.154961</td>\n",
       "    </tr>\n",
       "    <tr>\n",
       "      <th>1</th>\n",
       "      <td>2020-01-02</td>\n",
       "      <td>0.161528</td>\n",
       "    </tr>\n",
       "    <tr>\n",
       "      <th>2</th>\n",
       "      <td>2020-01-03</td>\n",
       "      <td>0.128297</td>\n",
       "    </tr>\n",
       "    <tr>\n",
       "      <th>3</th>\n",
       "      <td>2020-01-04</td>\n",
       "      <td>0.144796</td>\n",
       "    </tr>\n",
       "    <tr>\n",
       "      <th>4</th>\n",
       "      <td>2020-01-05</td>\n",
       "      <td>0.132267</td>\n",
       "    </tr>\n",
       "  </tbody>\n",
       "</table>\n",
       "</div>"
      ],
      "text/plain": [
       "        date  sentiment_score\n",
       "0 2020-01-01         0.154961\n",
       "1 2020-01-02         0.161528\n",
       "2 2020-01-03         0.128297\n",
       "3 2020-01-04         0.144796\n",
       "4 2020-01-05         0.132267"
      ]
     },
     "execution_count": 93,
     "metadata": {},
     "output_type": "execute_result"
    }
   ],
   "source": [
    "# Only take the date and sentiment score columns\n",
    "tweets_dfnullzero = tweets_dfnullzero[['date','sentiment_score']]\n",
    "tweets_dfnullzero.head()"
   ]
  },
  {
   "cell_type": "code",
   "execution_count": 94,
   "id": "196d21d3-57b2-4f4b-bc0b-676176b83ea3",
   "metadata": {
    "tags": []
   },
   "outputs": [],
   "source": [
    "# preview daily average w/o zero sentiment scores\n",
    "# https://pandas.pydata.org/docs/reference/api/pandas.DataFrame.groupby.html\n",
    "tweets_dfnullzero = tweets_dfnullzero.groupby(['date'], as_index=False).mean()"
   ]
  },
  {
   "cell_type": "code",
   "execution_count": 95,
   "id": "5c88522c-9e6c-4304-a144-cc3302f28dd3",
   "metadata": {
    "tags": []
   },
   "outputs": [
    {
     "data": {
      "text/plain": [
       "date               0\n",
       "sentiment_score    0\n",
       "dtype: int64"
      ]
     },
     "execution_count": 95,
     "metadata": {},
     "output_type": "execute_result"
    }
   ],
   "source": [
    "tweets_dfnullzero.isnull().sum()"
   ]
  },
  {
   "cell_type": "code",
   "execution_count": 96,
   "id": "c043a49e-e19a-4d05-b976-6da945f52601",
   "metadata": {
    "tags": []
   },
   "outputs": [
    {
     "data": {
      "text/html": [
       "<div>\n",
       "<style scoped>\n",
       "    .dataframe tbody tr th:only-of-type {\n",
       "        vertical-align: middle;\n",
       "    }\n",
       "\n",
       "    .dataframe tbody tr th {\n",
       "        vertical-align: top;\n",
       "    }\n",
       "\n",
       "    .dataframe thead th {\n",
       "        text-align: right;\n",
       "    }\n",
       "</style>\n",
       "<table border=\"1\" class=\"dataframe\">\n",
       "  <thead>\n",
       "    <tr style=\"text-align: right;\">\n",
       "      <th></th>\n",
       "      <th>sentiment_score</th>\n",
       "      <th>sentiment_score_final</th>\n",
       "    </tr>\n",
       "    <tr>\n",
       "      <th>date</th>\n",
       "      <th></th>\n",
       "      <th></th>\n",
       "    </tr>\n",
       "  </thead>\n",
       "  <tbody>\n",
       "    <tr>\n",
       "      <th>2020-01-01</th>\n",
       "      <td>0.099938</td>\n",
       "      <td>0.154961</td>\n",
       "    </tr>\n",
       "    <tr>\n",
       "      <th>2020-01-02</th>\n",
       "      <td>0.111398</td>\n",
       "      <td>0.161528</td>\n",
       "    </tr>\n",
       "    <tr>\n",
       "      <th>2020-01-03</th>\n",
       "      <td>0.073760</td>\n",
       "      <td>0.128297</td>\n",
       "    </tr>\n",
       "    <tr>\n",
       "      <th>2020-01-04</th>\n",
       "      <td>0.083606</td>\n",
       "      <td>0.144796</td>\n",
       "    </tr>\n",
       "    <tr>\n",
       "      <th>2020-01-05</th>\n",
       "      <td>0.086658</td>\n",
       "      <td>0.132267</td>\n",
       "    </tr>\n",
       "  </tbody>\n",
       "</table>\n",
       "</div>"
      ],
      "text/plain": [
       "            sentiment_score  sentiment_score_final\n",
       "date                                              \n",
       "2020-01-01         0.099938               0.154961\n",
       "2020-01-02         0.111398               0.161528\n",
       "2020-01-03         0.073760               0.128297\n",
       "2020-01-04         0.083606               0.144796\n",
       "2020-01-05         0.086658               0.132267"
      ]
     },
     "execution_count": 96,
     "metadata": {},
     "output_type": "execute_result"
    }
   ],
   "source": [
    "# adding final average sentiment scores\n",
    "daily_sentiment_scores_df['sentiment_score_final'] = tweets_dfnullzero.sentiment_score.values\n",
    "daily_sentiment_scores_df.head()"
   ]
  },
  {
   "attachments": {},
   "cell_type": "markdown",
   "id": "2bf35bd6-40b8-4a6f-84dd-f9923f3c3fd3",
   "metadata": {},
   "source": [
    "# 8. Save sentiment analysis results"
   ]
  },
  {
   "cell_type": "code",
   "execution_count": 97,
   "id": "8b0d3fb4-04ac-4df8-8045-40ecf6b612c2",
   "metadata": {
    "tags": []
   },
   "outputs": [],
   "source": [
    "daily_sentiment_scores_df.to_csv('daily_avg_sen_scores.csv')"
   ]
  },
  {
   "cell_type": "code",
   "execution_count": null,
   "id": "664e8129-5746-4ad2-81ee-716f1da4114a",
   "metadata": {},
   "outputs": [],
   "source": []
  }
 ],
 "metadata": {
  "kernelspec": {
   "display_name": "Python 3 (ipykernel)",
   "language": "python",
   "name": "python3"
  },
  "language_info": {
   "codemirror_mode": {
    "name": "ipython",
    "version": 3
   },
   "file_extension": ".py",
   "mimetype": "text/x-python",
   "name": "python",
   "nbconvert_exporter": "python",
   "pygments_lexer": "ipython3",
   "version": "3.11.3"
  }
 },
 "nbformat": 4,
 "nbformat_minor": 5
}
